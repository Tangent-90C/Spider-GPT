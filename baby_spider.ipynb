{
 "nbformat": 4,
 "nbformat_minor": 0,
 "metadata": {
  "colab": {
   "provenance": [],
   "authorship_tag": "ABX9TyPi9Xve396uxUAuTiWRDCBu",
   "include_colab_link": true
  },
  "kernelspec": {
   "name": "python3",
   "language": "python",
   "display_name": "Python 3 (ipykernel)"
  },
  "language_info": {
   "name": "python"
  }
 },
 "cells": [
  {
   "cell_type": "code",
   "execution_count": 1,
   "outputs": [
    {
     "name": "stdout",
     "output_type": "stream",
     "text": [
      "[('', '/'), ('Qzone', 'https://qzone.qq.com'), ('点击查看QQ空间', 'https://qzone.qq.com'), ('Qmail', 'https://mail.qq.com'), ('点击查看QQ邮箱', 'https://mail.qq.com/cgi-bin/loginpage'), ('登录', 'javascript:;'), ('用户协议', '//www.qq.com/contract.shtml'), ('隐私条款', '//privacy.qq.com/policy/cookie-privacypolicy'), ('[退出登录]', 'javascript:;'), ('关怀版', '//new.qq.com/barrierfree.html'), ('无障碍浏览', 'javascript:void(0)'), ('新闻', 'http://news.qq.com/'), ('财经', 'https://new.qq.com/ch/finance/'), ('科技', 'https://new.qq.com/ch/tech/'), ('娱乐', 'https://new.qq.com/ch/ent/'), ('体育', 'https://sports.qq.com/'), ('NBA', 'https://sports.qq.com/nba/'), ('国际', 'https://new.qq.com/ch/world/'), ('军事', 'https://new.qq.com/ch/milite/'), ('文化', 'https://new.qq.com/ch/cul/'), ('教育', 'https://new.qq.com/ch/edu/'), ('健康', 'https://new.qq.com/ch/health/'), ('汽车', 'https://new.qq.com/ch/auto/'), ('房产', 'http://house.qq.com/'), ('游戏', 'https://new.qq.com/ch/games/'), ('乐活', 'https://new.qq.com/ch/fashion/'), ('云游戏', 'https://gamer.qq.com/?ichannel=txxwpc0Ftxxwpc1'), ('电竞', 'https://new.qq.com/ch/esport/'), ('股票', 'https://new.qq.com/ch/finance_stock/'), ('理财', 'https://new.qq.com/ch/finance_licai/'), ('历史', 'http://new.qq.com/ch/history/'), ('育儿', 'https://new.qq.com/ch/baby/'), ('数码', 'https://new.qq.com/ch/digi/'), ('家居', 'https://www.qq.com/jiajvjump.htm'), ('天气', 'http://tianqi.qq.com/index.htm'), ('要闻', '//news.qq.com'), ('', 'https://tianqi.qq.com/'), ('', 'https://tianqi.qq.com/'), ('更换城市', 'javascript:void(0);'), ('\\r          空气质量：\\r          PM2.5：', 'https://tianqi.qq.com/'), ('今天-℃ -\\r            -℃明天-℃ -\\r            -℃后天-℃ -\\r            -℃', 'https://tianqi.qq.com/'), ('恢复默认城市', 'javascript:void(0);'), ('北京市', 'javascript:void(0);'), ('上海市', 'javascript:void(0);'), ('天津市', 'javascript:void(0);'), ('重庆市', 'javascript:void(0);'), ('河北省', 'javascript:void(0);'), ('山西省', 'javascript:void(0);'), ('内蒙古', 'javascript:void(0);'), ('江苏省', 'javascript:void(0);'), ('安徽省', 'javascript:void(0);'), ('山东省', 'javascript:void(0);'), ('辽宁省', 'javascript:void(0);'), ('吉林省', 'javascript:void(0);'), ('黑龙江省', 'javascript:void(0);'), ('浙江省', 'javascript:void(0);'), ('江西省', 'javascript:void(0);'), ('福建省', 'javascript:void(0);'), ('湖北省', 'javascript:void(0);'), ('湖南省', 'javascript:void(0);'), ('河南省', 'javascript:void(0);'), ('广东省', 'javascript:void(0);'), ('广西', 'javascript:void(0);'), ('海南省', 'javascript:void(0);'), ('四川省', 'javascript:void(0);'), ('贵州省', 'javascript:void(0);'), ('云南省', 'javascript:void(0);'), ('西藏', 'javascript:void(0);'), ('陕西省', 'javascript:void(0);'), ('甘肃省', 'javascript:void(0);'), ('宁夏', 'javascript:void(0);'), ('青海省', 'javascript:void(0);'), ('新疆', 'javascript:void(0);'), ('香港', 'javascript:void(0);'), ('澳门', 'javascript:void(0);'), ('台湾省', 'javascript:void(0);'), ('北京市', 'javascript:void(0);'), ('习近平就卢旺达暴雨灾害向卢旺达总统卡加梅致慰问电', 'https://new.qq.com/rain/a/20230509A01NUG00'), ('推动高质量发展！习近平总书记提出这些要求', 'https://new.qq.com/rain/a/20230508A00X3X00'), ('学习语', 'https://new.qq.com/rain/a/20230508A00FV000'), ('中国星辰｜独家视角现场直击！“太空快递”又将发货', 'https://new.qq.com/rain/a/LNK2023050800152700'), ('多采取“四不两直”方式深入调研', 'https://new.qq.com/rain/a/20230507A03VL900'), ('新疆外贸产业迈上新台阶', 'https://new.qq.com/rain/a/LNK2023050900059700'), ('2023年补助地方公共文化服务资金下达', 'https://new.qq.com/rain/a/LNK2023050900060000'), ('国内装机规模最大高原风电基地800兆瓦全容量投产', 'https://new.qq.com/rain/a/LNK2023050900060400'), ('共同擘画中国中亚关系新蓝图（和音）', 'https://new.qq.com/rain/a/20230509A00OLI00'), ('美国副总统访问赞比亚，所到之处皆是“中国援建”', 'https://new.qq.com/rain/a/LNK2023050900119700'), ('健康中国丨假日期间，如果一旦感染新冠怎么办？', 'https://new.qq.com/rain/a/UTR2022121300270300'), ('一体化治理、联保共治，上海青浦打造生态水岸线', 'https://new.qq.com/rain/a/20230508A01KTY00'), ('北斗西虹桥基地积极助推中国卫星导航产业覆盖全球', 'https://new.qq.com/rain/a/20230508A04LAH00'), ('红土地高质量发展春潮涌', 'https://new.qq.com/rain/a/20230509A00OFK00'), ('我国海洋经济复苏态势强劲（新数据 新看点）', 'https://new.qq.com/rain/a/20230509A01N3100'), ('尊重自然、顺应自然、保护自然（今日谈）', 'https://new.qq.com/rain/a/20230509A00OM200'), ('“上下游企业抱团发力，空间更大”', 'https://new.qq.com/rain/a/20230509A02AO900'), ('确保主题教育取得预期效果', 'https://new.qq.com/rain/a/20230508A02LR900'), ('坚定理想信念 坚守使命追求', 'https://new.qq.com/rain/a/20230508A0464V00'), ('中央为何坚持推动各领域改革全面攻坚提速？', 'https://new.qq.com/rain/a/20230509A00P5R00'), ('我国对“一带一路”沿线国家贸易保持较快增长', 'https://new.qq.com/rain/a/LNK2023050900128200'), ('中国同中亚五国开启合作新时代 双方经贸往来日益密切', 'https://new.qq.com/rain/a/LNK2023050900128400'), ('擘画新蓝图 中国与中亚各国开启合作新时代', 'https://new.qq.com/rain/a/LNK2023050900128000'), ('满洲里铁路口岸中欧班列稳定开行', 'https://new.qq.com/rain/a/LNK2023050900128600'), ('', 'https://new.qq.com/rain/a/20230509A02WWI00'), ('海关总署：今年前4个月我国进出口增长5.8％', 'https://new.qq.com/rain/a/20230509A02WWI00'), ('', 'https://new.qq.com/rain/a/20230509A02WWI00'), ('【国际锐评】中东再次跳出了“美国剧本”', 'https://new.qq.com/rain/a/20230509A00PJO00'), ('美国经济衰退风险加大（环球热点）', 'https://new.qq.com/rain/a/20230509A02BG800'), ('国际热评：枪声频响，震不醒装睡的美国政客', 'https://new.qq.com/rain/a/20230508A06XWX00'), ('国际识局：日韩“穿梭外交”迎合美国，难解冰冻三尺之怨', 'https://new.qq.com/rain/a/20230508A080P400'), ('香港故事�虼┧笥谝皆旱奶厥饫鲜�', 'https://new.qq.com/rain/a/20230507A0451100'), ('新疆库尔德宁景区迎来旅游“热”', 'https://new.qq.com/rain/a/20230507A02FX900'), ('中秋国庆假期“合体”：形成8天超级黄金周，节后连上7天班', 'https://new.qq.com/rain/a/20230508A07OQT00'), ('美财长：美国可能出现债务违约，财政部最快6月1日耗尽现金', 'https://new.qq.com/rain/a/20230509A01H1A00'), ('对话专家：“百模大战”愈演愈烈，算力不够支撑10亿人使用', 'https://new.qq.com/rain/a/20230508A0559F00'), ('全球最大纸浆生产商正考虑以人民币进行对华贸易', 'https://new.qq.com/rain/a/20230509A02AJ800'), ('', 'https://new.qq.com/rain/a/20230509A01KBD00'), ('中国驻朝鲜大使王亚军拜会朝鲜外务相崔善姬', 'https://new.qq.com/rain/a/20230509A01KBD00'), ('', 'https://new.qq.com/rain/a/20230509A01KBD00'), ('巴以达成停火仅5天，以色列再次空袭加沙地带', 'https://new.qq.com/rain/a/20230509A04H3S00'), ('山东学生身高全国第一？高于全国平均水平，但输给了黑龙江', 'https://new.qq.com/rain/a/20230509A037A500'), ('热点精选', None), ('更多>>', '//news.qq.com'), ('外交部：如加方不听劝告，肆意妄为，中方必将坚决有力回击', 'https://new.qq.com/rain/a/20230509A058ML00'), ('直击俄罗斯胜利日红场阅兵：大量武器装备出镜 普京发表演讲', 'https://new.qq.com/rain/a/RLV2023050900099300'), ('高铁上被掌掴女孩坚决不和解，网友力挺：“有小孩并不代表有理”', 'https://new.qq.com/rain/a/UTR2023050700085000'), ('洪欣难离婚，她把笨蛋美人做到底了', 'https://new.qq.com/rain/a/20230508A03JB100'), ('网友称一夜醒来欠了地铁600多万？广州地铁：已及时出站，正排查原因', 'https://new.qq.com/rain/a/20230509A03P4R00'), ('国家统计局：个人工资与全国平均工资差异受多种因素影响，应理性看待', 'https://new.qq.com/rain/a/20230509A05D1400'), ('普京在胜利日红场阅兵式上发表讲话，演讲最后喊“为了胜利”和“乌拉”', 'https://new.qq.com/rain/a/UTR2023050900122000'), ('', 'https://new.qq.com/newsvideo.htm#/cover/mzc00200e4117bc'), ('中年高管失业：曾拥有上万球鞋酒柜，如今每天拼多多砍一刀', 'https://new.qq.com/newsvideo.htm#/cover/mzc00200e4117bc/x1470rl39qu'), ('【看点】女导演砸三千万到山村做民宿，3年零收入赔到崩溃', 'https://new.qq.com/newsvideo.htm#/cover/mzc00200e4117bc/s1470vzc1bn'), ('【看点】东北大姐44岁还在山村创业，拉一个亿投资建别墅', 'https://new.qq.com/newsvideo.htm#/cover/mzc00200e4117bc/o1470g64m67'), ('解法第5季', 'https://new.qq.com/newsvideo.htm#/cover/mzc00200gv0a4pn'), ('每年有上千亿件衣服被浪费，你还在买买买', 'https://new.qq.com/newsvideo.htm#/cover/mzc00200gv0a4pn/w3511ka8dwa'), ('十三邀 第七季', 'https://new.qq.com/newsvideo.htm#/cover/mzc0020028mcii8'), ('彭凯平：人们花很多精力迎合社会需求', 'https://new.qq.com/newsvideo.htm#/cover/mzc0020028mcii8/f0045u6g9nu'), ('这可怎么说', 'https://new.qq.com/newsvideo.htm#/cover/mzc00200eyfj5zy'), ('大学毕业找不到体面的工作，很丢脸吗？', 'https://new.qq.com/newsvideo.htm#/cover/mzc00200eyfj5zy/x3509ujzf1b'), ('谷雨实验室', 'javascript:;'), ('', 'https://new.qq.com/omn/20230504/20230504A01K4200.html'), ('秦昊：漫长之后，我的至暗时刻已经过去了', 'https://new.qq.com/omn/20230504/20230504A01K4200.html'), ('\\r            谷雨实验室\\r          ', 'https://new.qq.com/omn/20230504/20230504A01K4200.html'), ('烘干机市场逆天狂飙，中国人准备好从晾衣服变成烘衣服了？', 'https://new.qq.com/omn/20230426/20230426A017HS00.html'), ('年轻人挤爆雍和宫：排队三小时花上百买手串，有人想给身份证开光', 'https://new.qq.com/omn/20230425/20230425A011PK00.html'), ('', 'http://www.shdf.gov.cn/shdf/channels/740.html'), ('', 'https://www.qq.com/jubaoxuzhi.htm'), ('', 'https://110.qq.com/article_detail.html?id=5F1B69AAE7DBFB2D2B90'), ('', 'https://www.12377.cn/'), ('', 'https://110.qq.com/'), ('', 'https://new.qq.com/jvbao/index.htm'), ('', 'https://new.qq.com/jvbao/index.htm?from=pc'), (' 腾讯新闻\\r            ', 'https://news.qq.com/mobile/'), (' 腾讯视频\\r            ', 'https://v.qq.com/channel/choice?isoldly=1&channel_2022=1'), ('\\r              腾讯体育\\r            ', 'https://sports.qq.com/'), (' 腾讯公益\\r            ', 'https://gongyi.qq.com/'), ('新闻APP', 'http://news.qq.com/mobile/'), ('体育APP', 'https://sports.qq.com/kbsweb/kbsdown/'), ('视频APP', 'http://v.qq.com/download.html#iPhone'), ('浏览器', 'https://browser.qq.com/'), ('QQ音乐', 'https://y.qq.com/'), ('微视', 'http://www.weishi.com/'), ('企鹅号', 'https://om.qq.com/userAuth/index'), ('企业微信', 'https://work.weixin.qq.com/?from=tengxunwang'), ('腾讯会议', 'http://meeting.tencent.com/activities/index.html?fromSource=sem70'), ('腾讯文档', 'https://docs.qq.com/'), ('腾讯医典', 'https://baike.qq.com/?from=qqnews'), ('电脑管家', 'https://guanjia.qq.com/?ADTAG=news.qqcom'), ('云游戏', 'https://gamer.qq.com/?ichannel=txxwpc0Ftxxwpc1'), ('QQ游戏', 'http://act.qqgame.qq.com/a20220902llqone/index-txxw.html'), ('黎明觉醒', 'https://gamer.qq.com/v2/cloudgame/game/95438?ichannel=txxwpc0Ftxxwpc1'), ('王者', 'https://gamer.qq.com/v2/cloudgame/game/95601?ichannel=txxwpc0Ftxxwpc1'), ('天刀', 'https://gamer.qq.com/v2/game/detail/95072'), ('重返帝国', 'https://gamer.qq.com/v2/game/detail/95818'), ('CFM', 'https://gamer.qq.com/v2/game/detail/96419'), ('全民K歌', 'http://kg.qq.com/'), ('手机QQ', 'https://im.qq.com/mobileqq/'), ('QQ阅读', 'http://book.qq.com/?g_f=70085'), ('微信', 'http://weixin.qq.com/'), ('腾讯地图', 'https://map.qq.com/#city=%D6%D0%B9%FA&wd=%D6%D0%B9%FA'), ('腾讯云', 'https://cloud.tencent.com/?fromSource=gwzcw.756432.756432.756432'), ('理财通', 'https://qian.qq.com/?stat_data=oth87ppcsy00222&ADTAG=SCQD.BD.PC.TXDH1'), ('软件', 'https://pc.qq.com/'), ('斗地主', 'https://gamer.qq.com/v2/game/detail/95179'), ('会员', 'https://vip.qq.com/'), ('Q币', 'https://pay.qq.com/'), ('热门赛事', 'http://kbs.sports.qq.com/#hot'), ('', 'http://kbs.sports.qq.com/#hot'), ('湖人勇士G4五佳球：库里鬼魅传球 詹姆斯大帽库里', 'https://new.qq.com/rain/a/20230509V03TDJ00'), ('冉雄飞爆料：郝伟涉嫌操纵比赛！李铁将被移送看守', 'https://new.qq.com/rain/a/20230509A05CM600'), ('劳伦斯奖：梅西获最佳男运动员 谷爱凌获极限运动员奖', 'https://new.qq.com/rain/a/20230509V02N9Y00'), ('梅西获奖感言：在巴萨收获幸福，与阿根廷人分享喜悦', 'https://new.qq.com/rain/a/20230509V02FY000'), ('【舌战总决赛】他现在就是浙江一哥！能否进男篮12人？', 'https://new.qq.com/rain/a/20230509A02RAF00'), ('体谈 | 领导踢满15分钟就增加点球？别踢出献媚庸俗味', 'https://new.qq.com/rain/a/20230508A0998T00'), ('今日热播', 'javascript:;'), ('', 'https://news.qq.com/mobile/index.htm'), ('娱乐', '//new.qq.com/ch/ent/'), ('更多>>', '//new.qq.com/ch/ent/'), ('抗疫', 'javascript:;'), ('体育', 'https://new.qq.com/ch/sports/'), ('更多>>', 'https://new.qq.com/ch/sports/'), ('健康', '//new.qq.com/ch/health/'), ('更多>>', '//new.qq.com/ch/health/'), ('财经', '//new.qq.com/ch/finance/'), ('更多>>', '//new.qq.com/ch/finance/'), ('军事', '//new.qq.com/ch/milite/'), ('更多>>', '//new.qq.com/ch/milite/'), ('NBA', '//sports.qq.com/nba/'), ('更多>>', '//sports.qq.com/nba/'), ('国际', '//new.qq.com/ch/world/'), ('更多>>', '//new.qq.com/ch/world/'), ('科技', '//new.qq.com/ch/tech/'), ('更多>>', '//new.qq.com/ch/tech/'), ('乐活', '//new.qq.com/ch/fashion/'), ('更多>>', '//new.qq.com/ch/fashion/'), ('汽车', '//new.qq.com/ch/auto/'), ('更多>>', '//new.qq.com/ch/auto/'), ('房产', '//house.qq.com/'), ('更多>>', '//house.qq.com/'), ('', 'https://news.qq.com/mobile/index.htm'), ('教育', '//new.qq.com/ch/edu/'), ('更多>>', '//new.qq.com/ch/edu/'), ('历史', '//new.qq.com/ch/history/'), ('更多>>', '//new.qq.com/ch/history/'), ('文化', '//new.qq.com/ch/cul/'), ('更多>>', '//new.qq.com/ch/cul/'), ('数码', '//new.qq.com/ch/digi/'), ('更多>>', '//new.qq.com/ch/digi/'), ('游戏', '//new.qq.com/ch/games/'), ('更多>>', '//new.qq.com/ch/games/'), ('财报', 'https://www.tencent.com/zh-cn/company.html'), ('关于腾讯', 'http://www.tencent.com/'), ('About\\r    Tencent', 'http://www.tencent.com/index_e.shtml'), ('服务协议', 'http://www.qq.com/contract.shtml'), ('隐私政策', 'https://privacy.qq.com/'), ('开放平台', 'http://open.qq.com/'), ('商务洽谈', 'https://www.tencent.com/zh-cn/partnership.html'), ('腾讯招聘', 'http://hr.tencent.com/'), ('腾讯公益', 'http://gongyi.qq.com/'), ('客服中心', 'http://kf.qq.com/'), ('网站导航', 'http://www.qq.com/map/'), ('客户端下载', '//news.qq.com/mobile/index.htm'), ('深圳举报中心', 'http://szwljb.sz.gov.cn/'), ('深圳公安局', 'http://ga.sz.gov.cn'), ('抵制违法广告承诺书', 'http://www.qq.com/dzwfggcns.htm'), ('侵权投诉指引', 'http://www.qq.com/copyright.shtml'), ('北京互联网法院法律服务工作站', 'https://www.qq.com/bjhlwfyflfwgzz.shtml'), ('广东省通管局', 'https://gdca.miit.gov.cn/'), ('粤网文[2020]3396-195号', 'http://www.qq.com/culture.shtml'), ('新出网证（粤）字010号', 'http://www.qq.com/internet_licence.htm'), ('网络视听许可证1904073号', 'http://www.qq.com/cbst.shtml'), ('粤B2-20090059', 'http://beian.miit.gov.cn/'), ('B2-20090028', 'http://www.qq.com/icp2.shtml'), ('新闻信息服务许可证', 'http://www.qq.com/scio.htm'), ('粤府新函[2001]87号', 'http://www.qq.com/xwdz.shtml'), ('粤公网安备\\r      44030002000001号', 'http://www.beian.gov.cn/portal/registerSystemInfo?recordcode=44030002000001'), ('互联网药品信息服务资格证书\\r    （粤）―非营业性―2017-0153', 'http://www.qq.com/spyp.htm'), ('', '//www.piyao.org.cn/'), ('', 'http://www.12377.cn/'), ('中国互联网\\r            举报中心', 'http://www.12377.cn/'), ('', 'http://www.wenming.cn'), ('中国文明网传播文明', 'http://www.wenming.cn'), ('', 'https://ss.knet.cn/verifyseal.dll?sn=2010051300100001081&ct=df&a=1&pa=337337'), ('', 'http://szcert.ebs.org.cn/6917b6fe-b844-4e12-97c5-85b8d1df30ed'), ('工商网监电子标识', 'http://szcert.ebs.org.cn/6917b6fe-b844-4e12-97c5-85b8d1df30ed'), ('', 'http://www.sz315.org'), ('深圳市\\r            消费者委员会', 'http://www.sz315.org'), ('刷新', 'javascript:'), ('用户反馈', 'https://support.qq.com/products/4312'), ('', 'javascript:void(0)'), ('关闭', 'javascript:;'), ('', 'javascript:;'), ('', 'javascript:;'), ('关闭', 'javascript:;'), ('', 'javascript:;'), ('', 'javascript:;'), ('关闭', 'javascript:;')]\n"
     ]
    }
   ],
   "source": [
    "import os\n",
    "from llama_index.indices.struct_store import GPTPandasIndex, GPTNLPandasQueryEngine\n",
    "from get_links import get_links\n",
    "import pandas as pd\n",
    "\n",
    "os.environ[\"HTTP_PROXY\"] = \"http://127.0.0.1:10809\"\n",
    "os.environ[\"HTTPS_PROXY\"] = \"http://127.0.0.1:10809\"\n",
    "os.environ[\"OPENAI_API_KEY\"] = 'sk-xxxxx'"
   ],
   "metadata": {
    "collapsed": false,
    "ExecuteTime": {
     "end_time": "2023-05-09T08:04:43.436748100Z",
     "start_time": "2023-05-09T08:04:40.972692100Z"
    }
   }
  },
  {
   "cell_type": "code",
   "execution_count": 2,
   "outputs": [],
   "source": [
    "df = pd.DataFrame(get_links(\"https://www.qq.com/\"),columns=[\"网页标题\",\"网页链接\"])\n",
    "df.drop_duplicates(subset=['网页标题'],keep='first',inplace=True)\n",
    "df.reset_index(drop=True,inplace=True)"
   ],
   "metadata": {
    "collapsed": false,
    "ExecuteTime": {
     "end_time": "2023-05-09T08:04:44.348042Z",
     "start_time": "2023-05-09T08:04:43.439245200Z"
    }
   }
  },
  {
   "cell_type": "code",
   "execution_count": 3,
   "outputs": [
    {
     "data": {
      "text/plain": "                        网页标题  \\\n0                              \n1                      Qzone   \n2                   点击查看QQ空间   \n3                      Qmail   \n4                   点击查看QQ邮箱   \n..                       ...   \n206                 工商网监电子标识   \n207  深圳市\\r            消费者委员会   \n208                       刷新   \n209                     用户反馈   \n210                       关闭   \n\n                                                  网页链接  \n0                                                    /  \n1                                 https://qzone.qq.com  \n2                                 https://qzone.qq.com  \n3                                  https://mail.qq.com  \n4                https://mail.qq.com/cgi-bin/loginpage  \n..                                                 ...  \n206  http://szcert.ebs.org.cn/6917b6fe-b844-4e12-97...  \n207                               http://www.sz315.org  \n208                                        javascript:  \n209               https://support.qq.com/products/4312  \n210                                       javascript:;  \n\n[211 rows x 2 columns]",
      "text/html": "<div>\n<style scoped>\n    .dataframe tbody tr th:only-of-type {\n        vertical-align: middle;\n    }\n\n    .dataframe tbody tr th {\n        vertical-align: top;\n    }\n\n    .dataframe thead th {\n        text-align: right;\n    }\n</style>\n<table border=\"1\" class=\"dataframe\">\n  <thead>\n    <tr style=\"text-align: right;\">\n      <th></th>\n      <th>网页标题</th>\n      <th>网页链接</th>\n    </tr>\n  </thead>\n  <tbody>\n    <tr>\n      <th>0</th>\n      <td></td>\n      <td>/</td>\n    </tr>\n    <tr>\n      <th>1</th>\n      <td>Qzone</td>\n      <td>https://qzone.qq.com</td>\n    </tr>\n    <tr>\n      <th>2</th>\n      <td>点击查看QQ空间</td>\n      <td>https://qzone.qq.com</td>\n    </tr>\n    <tr>\n      <th>3</th>\n      <td>Qmail</td>\n      <td>https://mail.qq.com</td>\n    </tr>\n    <tr>\n      <th>4</th>\n      <td>点击查看QQ邮箱</td>\n      <td>https://mail.qq.com/cgi-bin/loginpage</td>\n    </tr>\n    <tr>\n      <th>...</th>\n      <td>...</td>\n      <td>...</td>\n    </tr>\n    <tr>\n      <th>206</th>\n      <td>工商网监电子标识</td>\n      <td>http://szcert.ebs.org.cn/6917b6fe-b844-4e12-97...</td>\n    </tr>\n    <tr>\n      <th>207</th>\n      <td>深圳市\\r            消费者委员会</td>\n      <td>http://www.sz315.org</td>\n    </tr>\n    <tr>\n      <th>208</th>\n      <td>刷新</td>\n      <td>javascript:</td>\n    </tr>\n    <tr>\n      <th>209</th>\n      <td>用户反馈</td>\n      <td>https://support.qq.com/products/4312</td>\n    </tr>\n    <tr>\n      <th>210</th>\n      <td>关闭</td>\n      <td>javascript:;</td>\n    </tr>\n  </tbody>\n</table>\n<p>211 rows × 2 columns</p>\n</div>"
     },
     "execution_count": 3,
     "metadata": {},
     "output_type": "execute_result"
    }
   ],
   "source": [
    "df"
   ],
   "metadata": {
    "collapsed": false,
    "ExecuteTime": {
     "end_time": "2023-05-09T08:04:44.362153900Z",
     "start_time": "2023-05-09T08:04:44.349029200Z"
    }
   }
  },
  {
   "cell_type": "code",
   "execution_count": 4,
   "outputs": [],
   "source": [
    "index = GPTPandasIndex(df)\n",
    "index_nlp = GPTNLPandasQueryEngine(index)"
   ],
   "metadata": {
    "collapsed": false,
    "ExecuteTime": {
     "end_time": "2023-05-09T08:04:48.929275600Z",
     "start_time": "2023-05-09T08:04:46.022614100Z"
    }
   }
  },
  {
   "cell_type": "code",
   "execution_count": 5,
   "outputs": [],
   "source": [
    "response = index_nlp.query(\n",
    "    \"帮我找找这个网页上的股票入口\",\n",
    ")"
   ],
   "metadata": {
    "collapsed": false,
    "ExecuteTime": {
     "end_time": "2023-05-09T08:04:53.448893100Z",
     "start_time": "2023-05-09T08:04:48.925661Z"
    }
   }
  },
  {
   "cell_type": "code",
   "execution_count": 6,
   "outputs": [
    {
     "name": "stdout",
     "output_type": "stream",
     "text": [
      "\n",
      "df[df['网页标题'].str.contains('股票')]['网页链接']\n"
     ]
    }
   ],
   "source": [
    "print(response.response)"
   ],
   "metadata": {
    "collapsed": false,
    "ExecuteTime": {
     "end_time": "2023-05-09T08:04:58.230647400Z",
     "start_time": "2023-05-09T08:04:58.214529200Z"
    }
   }
  },
  {
   "cell_type": "code",
   "execution_count": 7,
   "outputs": [
    {
     "data": {
      "text/plain": "'https://new.qq.com/ch/finance_stock/'"
     },
     "execution_count": 7,
     "metadata": {},
     "output_type": "execute_result"
    }
   ],
   "source": [
    "search_link = eval(response.response)\n",
    "search_link.item()"
   ],
   "metadata": {
    "collapsed": false,
    "ExecuteTime": {
     "end_time": "2023-05-09T08:04:58.961903800Z",
     "start_time": "2023-05-09T08:04:58.956883100Z"
    }
   }
  },
  {
   "cell_type": "markdown",
   "source": [
    "## 查到了入口链接"
   ],
   "metadata": {
    "collapsed": false
   }
  },
  {
   "cell_type": "code",
   "execution_count": 8,
   "outputs": [],
   "source": [
    "from llama_index import GPTListIndex, TrafilaturaWebReader\n",
    "documents = TrafilaturaWebReader().load_data([search_link.item()])\n",
    "index = GPTListIndex.from_documents(documents)\n",
    "# set Logging to DEBUG for more detailed outputs\n",
    "query_engine = index.as_query_engine()\n",
    "response = query_engine.query(\"上证指数怎么样？”\")"
   ],
   "metadata": {
    "collapsed": false,
    "ExecuteTime": {
     "end_time": "2023-05-09T08:05:31.817353400Z",
     "start_time": "2023-05-09T08:05:28.827441900Z"
    }
   }
  },
  {
   "cell_type": "code",
   "execution_count": 9,
   "outputs": [
    {
     "data": {
      "text/plain": "'\\nThe Shanghai Composite Index is currently trading at 3,400.45, up 0.14% from the previous close.'"
     },
     "execution_count": 9,
     "metadata": {},
     "output_type": "execute_result"
    }
   ],
   "source": [
    "response.response"
   ],
   "metadata": {
    "collapsed": false,
    "ExecuteTime": {
     "end_time": "2023-05-09T08:05:31.833081500Z",
     "start_time": "2023-05-09T08:05:31.820354700Z"
    }
   }
  },
  {
   "cell_type": "code",
   "execution_count": 10,
   "outputs": [
    {
     "name": "stderr",
     "output_type": "stream",
     "text": [
      "Token indices sequence length is longer than the specified maximum sequence length for this model (2536 > 1024). Running this sequence through the model will result in indexing errors\n"
     ]
    }
   ],
   "source": [
    "from llama_index import GPTListIndex, TrafilaturaWebReader\n",
    "documents = TrafilaturaWebReader().load_data([\"https://finance.sina.com.cn/stock/\"])\n",
    "index = GPTListIndex.from_documents(documents)\n",
    "# set Logging to DEBUG for more detailed outputs\n",
    "query_engine = index.as_query_engine()\n",
    "response = query_engine.query(\"这个网页有巴菲特的消息吗？如果有，标题是什么？\")"
   ],
   "metadata": {
    "collapsed": false,
    "ExecuteTime": {
     "end_time": "2023-05-09T08:06:46.644310700Z",
     "start_time": "2023-05-09T08:05:39.845886800Z"
    }
   }
  },
  {
   "cell_type": "code",
   "execution_count": 11,
   "outputs": [
    {
     "data": {
      "text/plain": "'\\n\\n是的，有巴菲特的消息。标题是：巴菲特再度减持比亚迪H股持股比例降至9.87%，涉及信披违规被调、去年归属净利润减少17.19%、何其金家族拟10亿入主会畅通讯、实控人失联、中金公司、首旅酒店、新华网等遭到北向资金净流入等，并受到市盈排行、分红融资、'"
     },
     "execution_count": 11,
     "metadata": {},
     "output_type": "execute_result"
    }
   ],
   "source": [
    "response.response"
   ],
   "metadata": {
    "collapsed": false,
    "ExecuteTime": {
     "end_time": "2023-05-09T08:06:46.660066100Z",
     "start_time": "2023-05-09T08:06:46.645316400Z"
    }
   }
  },
  {
   "cell_type": "code",
   "execution_count": null,
   "outputs": [],
   "source": [],
   "metadata": {
    "collapsed": false
   }
  }
 ]
}
